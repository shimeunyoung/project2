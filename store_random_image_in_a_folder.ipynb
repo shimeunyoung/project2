{
 "cells": [
  {
   "cell_type": "code",
   "execution_count": 1,
   "metadata": {},
   "outputs": [],
   "source": [
    "from PIL import Image\n",
    "import os, glob\n",
    "import numpy as np\n",
    "from sklearn.model_selection import train_test_split\n",
    "import random"
   ]
  },
  {
   "cell_type": "code",
   "execution_count": 2,
   "metadata": {},
   "outputs": [],
   "source": [
    "li=[21622, 14217, 21846, 17447, 18615]"
   ]
  },
  {
   "cell_type": "code",
   "execution_count": 3,
   "metadata": {},
   "outputs": [],
   "source": [
    "caltech_dir=\"./instagram_X\"\n",
    "categories=[\"coat\",\"dress\",\"pullover\",\"shirt\",\"t\"]\n",
    "nb_classes=len(categories)"
   ]
  },
  {
   "cell_type": "code",
   "execution_count": null,
   "metadata": {},
   "outputs": [],
   "source": [
    "num=[]\n",
    "for m in li:\n",
    "    for n in range(1,m+1):\n",
    "        num.append(n)\n",
    "    s=random.sample(num, 6000)\n",
    "    for idx, cat in enumerate(categories):\n",
    "        label=[0 for i in range(nb_classes)]\n",
    "        label[idx]=1\n",
    "        # 이미지 ---5\n",
    "        image_dir=caltech_dir+\"/\"+cat\n",
    "        image_dirr=caltech_dir+\"/R/\"+cat\n",
    "        for b in s:\n",
    "            b=str(b)\n",
    "            files=glob.glob(image_dir + \"/IMG (\" + b + \").jpg\")\n",
    "            path=image_dirr + \"/IMG (\" + b + \").jpg\"\n",
    "            for f in files:\n",
    "                img=Image.open(f) # ---6\n",
    "                img.save(path)"
   ]
  },
  {
   "cell_type": "code",
   "execution_count": null,
   "metadata": {},
   "outputs": [],
   "source": []
  },
  {
   "cell_type": "code",
   "execution_count": null,
   "metadata": {},
   "outputs": [],
   "source": []
  },
  {
   "cell_type": "code",
   "execution_count": null,
   "metadata": {},
   "outputs": [],
   "source": []
  }
 ],
 "metadata": {
  "kernelspec": {
   "display_name": "Python 3",
   "language": "python",
   "name": "python3"
  },
  "language_info": {
   "codemirror_mode": {
    "name": "ipython",
    "version": 3
   },
   "file_extension": ".py",
   "mimetype": "text/x-python",
   "name": "python",
   "nbconvert_exporter": "python",
   "pygments_lexer": "ipython3",
   "version": "3.7.3"
  }
 },
 "nbformat": 4,
 "nbformat_minor": 2
}
