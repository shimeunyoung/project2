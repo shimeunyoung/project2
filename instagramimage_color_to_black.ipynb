{
 "cells": [
  {
   "cell_type": "code",
   "execution_count": null,
   "metadata": {},
   "outputs": [],
   "source": [
    "#컬러이미지를 흑백이미지로 변환"
   ]
  },
  {
   "cell_type": "code",
   "execution_count": 1,
   "metadata": {},
   "outputs": [],
   "source": [
    "import cv2\n",
    "import os\n",
    "import numpy as np\n",
    "from PIL import Image"
   ]
  },
  {
   "cell_type": "code",
   "execution_count": 2,
   "metadata": {},
   "outputs": [],
   "source": [
    "li=['dress', 'coat', 't', 'pullover', 'shirt']"
   ]
  },
  {
   "cell_type": "code",
   "execution_count": 3,
   "metadata": {},
   "outputs": [],
   "source": [
    "li2=['dress_b', 'coat_b', 't_b', 'pullover_b', 'shirt_b']"
   ]
  },
  {
   "cell_type": "code",
   "execution_count": null,
   "metadata": {},
   "outputs": [],
   "source": [
    "#정제o"
   ]
  },
  {
   "cell_type": "code",
   "execution_count": 12,
   "metadata": {},
   "outputs": [
    {
     "name": "stdout",
     "output_type": "stream",
     "text": [
      "All Done\n",
      "All Done\n",
      "All Done\n",
      "All Done\n",
      "All Done\n"
     ]
    }
   ],
   "source": [
    "#TEST\n",
    "count=0\n",
    "for i in li:\n",
    "    path=\"C:/Users/Park Hye Rin/instagram_O/TEST/\"+i\n",
    "    path2=\"C:/Users/Park Hye Rin/instagram_O/TEST/\"+li2[count]\n",
    "    imagePaths = [os.path.join(path, file_name) for file_name in os.listdir(path)]\n",
    "    for imagePath in imagePaths:\n",
    "        img = Image.open(imagePath).convert('L')\n",
    "        img_numpy = np.array(img, 'uint8')\n",
    "        cv2.imwrite(path2+\"\\\\\"+ imagePath.split(\"\\\\\")[-1], img_numpy)\n",
    "    count+=1\n",
    "    print(\"All Done\")"
   ]
  },
  {
   "cell_type": "code",
   "execution_count": 15,
   "metadata": {},
   "outputs": [
    {
     "name": "stdout",
     "output_type": "stream",
     "text": [
      "All Done\n",
      "All Done\n",
      "All Done\n",
      "All Done\n",
      "All Done\n"
     ]
    }
   ],
   "source": [
    "#TRAIN\n",
    "count=0\n",
    "for i in li:\n",
    "    path=\"C:/Users/Park Hye Rin/instagram_O/TRAIN/\"+i\n",
    "    path2=\"C:/Users/Park Hye Rin/instagram_O/B_TRAIN/\"+li2[count]\n",
    "    imagePaths = [os.path.join(path, file_name) for file_name in os.listdir(path)]\n",
    "    for imagePath in imagePaths:\n",
    "        img = Image.open(imagePath).convert('L')\n",
    "        img_numpy = np.array(img, 'uint8')\n",
    "        cv2.imwrite(path2+\"\\\\\"+ imagePath.split(\"\\\\\")[-1], img_numpy)\n",
    "    count+=1\n",
    "    print(\"All Done\")"
   ]
  },
  {
   "cell_type": "code",
   "execution_count": null,
   "metadata": {},
   "outputs": [],
   "source": []
  },
  {
   "cell_type": "code",
   "execution_count": null,
   "metadata": {},
   "outputs": [],
   "source": [
    "#정제x"
   ]
  },
  {
   "cell_type": "code",
   "execution_count": 4,
   "metadata": {},
   "outputs": [
    {
     "name": "stdout",
     "output_type": "stream",
     "text": [
      "All Done\n",
      "All Done\n",
      "All Done\n",
      "All Done\n",
      "All Done\n"
     ]
    }
   ],
   "source": [
    "count=0\n",
    "for i in li:\n",
    "    path=\"C:/Users/Park Hye Rin/instagram_X/\"+i\n",
    "    path2=\"C:/Users/Park Hye Rin/instagram_X/B/\"+li2[count]\n",
    "    imagePaths = [os.path.join(path, file_name) for file_name in os.listdir(path)]\n",
    "    for imagePath in imagePaths:\n",
    "        img = Image.open(imagePath).convert('L')\n",
    "        img_numpy = np.array(img, 'uint8')\n",
    "        cv2.imwrite(path2+\"\\\\\"+ imagePath.split(\"\\\\\")[-1], img_numpy)\n",
    "    count+=1\n",
    "    print(\"All Done\")"
   ]
  },
  {
   "cell_type": "code",
   "execution_count": null,
   "metadata": {},
   "outputs": [],
   "source": []
  }
 ],
 "metadata": {
  "kernelspec": {
   "display_name": "Python 3",
   "language": "python",
   "name": "python3"
  },
  "language_info": {
   "codemirror_mode": {
    "name": "ipython",
    "version": 3
   },
   "file_extension": ".py",
   "mimetype": "text/x-python",
   "name": "python",
   "nbconvert_exporter": "python",
   "pygments_lexer": "ipython3",
   "version": "3.7.3"
  }
 },
 "nbformat": 4,
 "nbformat_minor": 2
}
