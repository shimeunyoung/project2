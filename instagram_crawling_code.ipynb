{
 "cells": [
  {
   "cell_type": "code",
   "execution_count": null,
   "metadata": {},
   "outputs": [],
   "source": [
    "#인스타그램 이미지 수집"
   ]
  },
  {
   "cell_type": "code",
   "execution_count": 1,
   "metadata": {},
   "outputs": [],
   "source": [
    "from selenium import webdriver\n",
    "from bs4 import BeautifulSoup\n",
    "from pandas import Series, DataFrame\n",
    "from selenium.webdriver.common.keys import Keys\n",
    "import pandas as pd\n",
    "import time\n",
    "import urllib"
   ]
  },
  {
   "cell_type": "code",
   "execution_count": 2,
   "metadata": {},
   "outputs": [],
   "source": [
    "driver=webdriver.Chrome('C:/Users/Park Hye Rin/chromedriver_win32/chromedriver')\n",
    "# 암묵적으로 웹 자원 로드를 위해 3초까지 기다려 준다.\n",
    "driver.implicitly_wait(3)"
   ]
  },
  {
   "cell_type": "code",
   "execution_count": 3,
   "metadata": {},
   "outputs": [],
   "source": [
    "driver.get('https://www.instagram.com/?hl=ko')\n",
    "driver.find_element_by_xpath('//*[@id=\"react-root\"]/section/main/article/div[2]/div[1]/div/form/div[1]/button').click()\n",
    "driver.find_element_by_name('email').send_keys('01031064802') #id\n",
    "driver.find_element_by_name('pass').send_keys('rkskekfkakqk4!') #password\n",
    "driver.find_element_by_xpath('//*[@id=\"u_0_5\"]').click()\n",
    "time.sleep(2)\n",
    "driver.find_element_by_xpath('/html/body/div[3]/div/div/div[3]/button[2]').click()"
   ]
  },
  {
   "cell_type": "code",
   "execution_count": null,
   "metadata": {},
   "outputs": [],
   "source": [
    "driver.find_element_by_xpath('//*[@id=\"react-root\"]/section/nav/div[2]/div/div/div[1]/a/div/div[2]/span').click()\n",
    "driver.find_element_by_xpath('//*[@id=\"react-root\"]/section/nav/div[2]/div/div/div[2]/input').send_keys('니트코디')\n",
    "driver.find_element_by_xpath('//*[@id=\"react-root\"]/section/nav/div[2]/div/div/div[2]/div[2]/div[2]/div/a[1]').click()"
   ]
  },
  {
   "cell_type": "code",
   "execution_count": 222,
   "metadata": {},
   "outputs": [
    {
     "name": "stdout",
     "output_type": "stream",
     "text": [
      "49\n",
      "이미지저장종료\n"
     ]
    },
    {
     "data": {
      "text/plain": [
       "39"
      ]
     },
     "execution_count": 222,
     "metadata": {},
     "output_type": "execute_result"
    }
   ],
   "source": [
    "li=[]\n",
    "html = driver.page_source\n",
    "soup = BeautifulSoup(html, 'html.parser')\n",
    "ex=soup.find_all(\"img\")\n",
    "print(len(ex))\n",
    "for i in ex:\n",
    "    exxx=i.get(\"src\")\n",
    "    li.append(exxx)\n",
    "del li[0:10]\n",
    "count=1\n",
    "for m in li:\n",
    "    count=str(count)\n",
    "    urllib.request.urlretrieve(m, \"./img/\" + count + \".jpg\")\n",
    "    count=int(count)\n",
    "    count+=1\n",
    "else:\n",
    "    print(\"이미지저장종료\")\n",
    "len(li)"
   ]
  },
  {
   "cell_type": "code",
   "execution_count": 200,
   "metadata": {},
   "outputs": [],
   "source": [
    "html = driver.page_source\n",
    "soup = BeautifulSoup(html, 'html.parser')\n",
    "elem=driver.find_element_by_tag_name(\"body\")\n",
    "no_of_pagedowns=8\n",
    "while no_of_pagedowns:\n",
    "    elem.send_keys(Keys.PAGE_DOWN)\n",
    "    time.sleep(0.2)\n",
    "    no_of_pagedowns-=1"
   ]
  },
  {
   "cell_type": "code",
   "execution_count": null,
   "metadata": {},
   "outputs": [],
   "source": []
  },
  {
   "cell_type": "code",
   "execution_count": null,
   "metadata": {},
   "outputs": [],
   "source": [
    "####합체"
   ]
  },
  {
   "cell_type": "code",
   "execution_count": null,
   "metadata": {},
   "outputs": [],
   "source": [
    "li=[]\n",
    "html = driver.page_source\n",
    "soup = BeautifulSoup(html, 'html.parser')\n",
    "elem=driver.find_element_by_tag_name(\"body\")\n",
    "while len(li)<=1500:\n",
    "    time.sleep(0.2)\n",
    "    html = driver.page_source\n",
    "    soup = BeautifulSoup(html, 'html.parser')\n",
    "    ex=soup.find_all(\"img\")\n",
    "    print(len(ex))\n",
    "    for i in ex:\n",
    "        exxx=i.get(\"src\")\n",
    "        li.append(exxx)\n",
    "    del li[0:9]\n",
    "    no_of_pagedowns=50\n",
    "    while no_of_pagedowns:\n",
    "        elem.send_keys(Keys.PAGE_DOWN)\n",
    "        time.sleep(0.2)\n",
    "        no_of_pagedowns-=1\n",
    "print(len(li))\n",
    "print('크롤링종료')"
   ]
  },
  {
   "cell_type": "code",
   "execution_count": 171,
   "metadata": {},
   "outputs": [
    {
     "name": "stdout",
     "output_type": "stream",
     "text": [
      "크롤링종료\n"
     ]
    },
    {
     "data": {
      "text/plain": [
       "232"
      ]
     },
     "execution_count": 171,
     "metadata": {},
     "output_type": "execute_result"
    }
   ],
   "source": [
    "count=1\n",
    "for m in li:\n",
    "    count=str(count)\n",
    "    urllib.request.urlretrieve(m, \"./img/\" + count + \".jpg\")\n",
    "    count=int(count)\n",
    "    count+=1\n",
    "else:\n",
    "    print(\"이미지저장종료\")\n",
    "len(li)"
   ]
  },
  {
   "cell_type": "code",
   "execution_count": null,
   "metadata": {},
   "outputs": [],
   "source": []
  },
  {
   "cell_type": "code",
   "execution_count": null,
   "metadata": {},
   "outputs": [],
   "source": [
    "#↑코드 함수화"
   ]
  },
  {
   "cell_type": "code",
   "execution_count": 5,
   "metadata": {},
   "outputs": [],
   "source": [
    "def instagram_image_crawling(add, addd, i, j):\n",
    "    driver.find_element_by_xpath('//*[@id=\"react-root\"]/section/nav/div[2]/div/div/div[1]/a/div/div[2]/span').click()\n",
    "    time.sleep(0.5)\n",
    "    driver.find_element_by_xpath('//*[@id=\"react-root\"]/section/nav/div[2]/div/div/div[2]/input').send_keys(i)\n",
    "    time.sleep(0.2)\n",
    "    driver.find_element_by_xpath('//*[@id=\"react-root\"]/section/nav/div[2]/div/div/div[2]/div[2]/div[2]/div/a[1]').click()\n",
    "    #driver.find_element_by_xpath('//*[@id=\"react-root\"]/section/nav/div[2]/div/div/div[2]/div[2]/div[2]/div/a[2]').click()\n",
    "    li=[]\n",
    "    html = driver.page_source\n",
    "    soup = BeautifulSoup(html, 'html.parser')\n",
    "    elem=driver.find_element_by_tag_name(\"body\")\n",
    "    while len(li)<=j:\n",
    "        time.sleep(0.2)\n",
    "        html = driver.page_source\n",
    "        soup = BeautifulSoup(html, 'html.parser')\n",
    "        ex=soup.find_all(\"img\")\n",
    "        sam=[]\n",
    "        for i in ex:\n",
    "            exxx=i.get(\"src\")\n",
    "            sam.append(exxx)\n",
    "        del sam[0:10] #코드 수정!\n",
    "        print(len(sam))\n",
    "        for n in sam:\n",
    "            li.append(n)\n",
    "        no_of_pagedowns=8\n",
    "        while no_of_pagedowns:\n",
    "            elem.send_keys(Keys.PAGE_DOWN)\n",
    "            time.sleep(0.2)\n",
    "            no_of_pagedowns-=1\n",
    "        time.sleep(0.5)\n",
    "    else:\n",
    "        print(len(li))\n",
    "        print(\"크롤링종료\")\n",
    "    count=1\n",
    "    for m in li:\n",
    "        if count<=2000:\n",
    "            count=str(count)\n",
    "            urllib.request.urlretrieve(m, add + count + \".jpg\")\n",
    "            count=int(count)\n",
    "            count+=1\n",
    "            time.sleep(0.1)\n",
    "        else:\n",
    "            count=str(count)\n",
    "            urllib.request.urlretrieve(m, addd + count + \".jpg\")\n",
    "            count=int(count)\n",
    "            count+=1\n",
    "            time.sleep(0.1)\n",
    "    print(len(li))\n",
    "    print('이미지저장종료')"
   ]
  },
  {
   "cell_type": "code",
   "execution_count": 14,
   "metadata": {
    "scrolled": true
   },
   "outputs": [
    {
     "name": "stdout",
     "output_type": "stream",
     "text": [
      "33\n",
      "57\n",
      "45\n",
      "45\n",
      "42\n",
      "45\n",
      "51\n",
      "51\n",
      "51\n",
      "60\n",
      "45\n",
      "525\n",
      "크롤링종료\n",
      "525\n",
      "이미지저장종료\n"
     ]
    }
   ],
   "source": [
    "instagram_image_crawling(\"./plus_manto(7)/\", \"./train_mantoman/\", \"맨투맨신상\", 500)\n",
    "#\"./img_coat/\"\n",
    "# 0 T-shirt/top 티\n",
    "# 1 Trouser 니트\n",
    "# 2 Pullover 바지\n",
    "# 3 Dress\n",
    "# 4 Coat\n",
    "# 5 Sandal\n",
    "# 6 Shirt 셔츠\n",
    "# 7 Sneaker\n",
    "# 8 Bag\n",
    "# 9 Ankle boot"
   ]
  },
  {
   "cell_type": "code",
   "execution_count": null,
   "metadata": {},
   "outputs": [],
   "source": []
  },
  {
   "cell_type": "code",
   "execution_count": null,
   "metadata": {},
   "outputs": [],
   "source": []
  },
  {
   "cell_type": "code",
   "execution_count": null,
   "metadata": {},
   "outputs": [],
   "source": []
  },
  {
   "cell_type": "code",
   "execution_count": null,
   "metadata": {},
   "outputs": [],
   "source": [
    "#특정 사이트 이미지 크롤링"
   ]
  },
  {
   "cell_type": "code",
   "execution_count": 11,
   "metadata": {},
   "outputs": [],
   "source": [
    "from bs4 import BeautifulSoup\n",
    "import urllib.request"
   ]
  },
  {
   "cell_type": "code",
   "execution_count": 28,
   "metadata": {},
   "outputs": [],
   "source": [
    "def get(max_count=1):\n",
    "    base_url=\"http://10000img.com/\"\n",
    "    url=\"http://10000img.com/ran.php\"\n",
    "    \n",
    "    count=1\n",
    "    while count <= max_count:\n",
    "        print(\"+--------[ %d번 째 이미지 ]_________+\" % count)\n",
    "        \n",
    "        html=urllib.request.urlopen(url)\n",
    "        source=html.read()\n",
    "        \n",
    "        soup=BeautifulSoup(source, \"html.parser\")\n",
    "        \n",
    "        img=soup.find(\"img\")\n",
    "        img_src=img.get(\"src\")\n",
    "        img_url=base_url+img_src\n",
    "        img_name=img_src.replace(\"/\",\"\")\n",
    "        \n",
    "        urllib.request.urlretrieve(img_url, \"./img/\" + img_name)\n",
    "        \n",
    "        print(\"이미지 src:\", img_src)\n",
    "        print(\"이미지 url\", img_url)\n",
    "        print(\"이미지 명:\", img_name)\n",
    "        print(\"\\n\")\n",
    "        count +=1\n",
    "    else:\n",
    "        print(\"크롤링 종료\")"
   ]
  },
  {
   "cell_type": "code",
   "execution_count": 29,
   "metadata": {},
   "outputs": [
    {
     "name": "stdout",
     "output_type": "stream",
     "text": [
      "+--------[ 1번 째 이미지 ]_________+\n",
      "이미지 src: rimg2/ybu60.jpg\n",
      "이미지 url http://10000img.com/rimg2/ybu60.jpg\n",
      "이미지 명: rimg2ybu60.jpg\n",
      "\n",
      "\n",
      "+--------[ 2번 째 이미지 ]_________+\n",
      "이미지 src: rimg2/joe47.jpg\n",
      "이미지 url http://10000img.com/rimg2/joe47.jpg\n",
      "이미지 명: rimg2joe47.jpg\n",
      "\n",
      "\n",
      "+--------[ 3번 째 이미지 ]_________+\n",
      "이미지 src: rimg2/cvi11.gif\n",
      "이미지 url http://10000img.com/rimg2/cvi11.gif\n",
      "이미지 명: rimg2cvi11.gif\n",
      "\n",
      "\n",
      "+--------[ 4번 째 이미지 ]_________+\n",
      "이미지 src: rimg2/dxd66.jpg\n",
      "이미지 url http://10000img.com/rimg2/dxd66.jpg\n",
      "이미지 명: rimg2dxd66.jpg\n",
      "\n",
      "\n",
      "+--------[ 5번 째 이미지 ]_________+\n",
      "이미지 src: rimg2/aiz64.jpg\n",
      "이미지 url http://10000img.com/rimg2/aiz64.jpg\n",
      "이미지 명: rimg2aiz64.jpg\n",
      "\n",
      "\n",
      "+--------[ 6번 째 이미지 ]_________+\n",
      "이미지 src: rimg2/mme41.jpg\n",
      "이미지 url http://10000img.com/rimg2/mme41.jpg\n",
      "이미지 명: rimg2mme41.jpg\n",
      "\n",
      "\n",
      "+--------[ 7번 째 이미지 ]_________+\n",
      "이미지 src: rimg2/eby59.jpg\n",
      "이미지 url http://10000img.com/rimg2/eby59.jpg\n",
      "이미지 명: rimg2eby59.jpg\n",
      "\n",
      "\n",
      "+--------[ 8번 째 이미지 ]_________+\n",
      "이미지 src: rimg2/naj55.jpg\n",
      "이미지 url http://10000img.com/rimg2/naj55.jpg\n",
      "이미지 명: rimg2naj55.jpg\n",
      "\n",
      "\n",
      "+--------[ 9번 째 이미지 ]_________+\n",
      "이미지 src: rimg2/kew14.jpg\n",
      "이미지 url http://10000img.com/rimg2/kew14.jpg\n",
      "이미지 명: rimg2kew14.jpg\n",
      "\n",
      "\n",
      "+--------[ 10번 째 이미지 ]_________+\n",
      "이미지 src: rimg2/voo94.jpg\n",
      "이미지 url http://10000img.com/rimg2/voo94.jpg\n",
      "이미지 명: rimg2voo94.jpg\n",
      "\n",
      "\n",
      "+--------[ 11번 째 이미지 ]_________+\n",
      "이미지 src: rimg2/ejd29.gif\n",
      "이미지 url http://10000img.com/rimg2/ejd29.gif\n",
      "이미지 명: rimg2ejd29.gif\n",
      "\n",
      "\n",
      "+--------[ 12번 째 이미지 ]_________+\n",
      "이미지 src: rimg2/goi40.jpg\n",
      "이미지 url http://10000img.com/rimg2/goi40.jpg\n",
      "이미지 명: rimg2goi40.jpg\n",
      "\n",
      "\n",
      "+--------[ 13번 째 이미지 ]_________+\n",
      "이미지 src: rimg2/bie19.jpg\n",
      "이미지 url http://10000img.com/rimg2/bie19.jpg\n",
      "이미지 명: rimg2bie19.jpg\n",
      "\n",
      "\n",
      "+--------[ 14번 째 이미지 ]_________+\n",
      "이미지 src: rimg2/fqe04.jpg\n",
      "이미지 url http://10000img.com/rimg2/fqe04.jpg\n",
      "이미지 명: rimg2fqe04.jpg\n",
      "\n",
      "\n",
      "+--------[ 15번 째 이미지 ]_________+\n",
      "이미지 src: rimg2/dpk06.jpg\n",
      "이미지 url http://10000img.com/rimg2/dpk06.jpg\n",
      "이미지 명: rimg2dpk06.jpg\n",
      "\n",
      "\n",
      "+--------[ 16번 째 이미지 ]_________+\n",
      "이미지 src: rimg2/vvb98.jpg\n",
      "이미지 url http://10000img.com/rimg2/vvb98.jpg\n",
      "이미지 명: rimg2vvb98.jpg\n",
      "\n",
      "\n",
      "+--------[ 17번 째 이미지 ]_________+\n",
      "이미지 src: rimg2/sss02.jpg\n",
      "이미지 url http://10000img.com/rimg2/sss02.jpg\n",
      "이미지 명: rimg2sss02.jpg\n",
      "\n",
      "\n",
      "+--------[ 18번 째 이미지 ]_________+\n",
      "이미지 src: rimg2/gau16.jpg\n",
      "이미지 url http://10000img.com/rimg2/gau16.jpg\n",
      "이미지 명: rimg2gau16.jpg\n",
      "\n",
      "\n",
      "+--------[ 19번 째 이미지 ]_________+\n",
      "이미지 src: rimg2/zyz25.jpg\n",
      "이미지 url http://10000img.com/rimg2/zyz25.jpg\n",
      "이미지 명: rimg2zyz25.jpg\n",
      "\n",
      "\n",
      "+--------[ 20번 째 이미지 ]_________+\n",
      "이미지 src: rimg2/jat59.JPG\n",
      "이미지 url http://10000img.com/rimg2/jat59.JPG\n",
      "이미지 명: rimg2jat59.JPG\n",
      "\n",
      "\n",
      "+--------[ 21번 째 이미지 ]_________+\n",
      "이미지 src: rimg2/uin42.jpg\n",
      "이미지 url http://10000img.com/rimg2/uin42.jpg\n",
      "이미지 명: rimg2uin42.jpg\n",
      "\n",
      "\n",
      "+--------[ 22번 째 이미지 ]_________+\n",
      "이미지 src: rimg2/rui90.gif\n",
      "이미지 url http://10000img.com/rimg2/rui90.gif\n",
      "이미지 명: rimg2rui90.gif\n",
      "\n",
      "\n",
      "+--------[ 23번 째 이미지 ]_________+\n",
      "이미지 src: rimg2/nug77.jpg\n",
      "이미지 url http://10000img.com/rimg2/nug77.jpg\n",
      "이미지 명: rimg2nug77.jpg\n",
      "\n",
      "\n",
      "+--------[ 24번 째 이미지 ]_________+\n",
      "이미지 src: rimg2/bob74.jpg\n",
      "이미지 url http://10000img.com/rimg2/bob74.jpg\n",
      "이미지 명: rimg2bob74.jpg\n",
      "\n",
      "\n",
      "+--------[ 25번 째 이미지 ]_________+\n",
      "이미지 src: rimg2/hut70.jpg\n",
      "이미지 url http://10000img.com/rimg2/hut70.jpg\n",
      "이미지 명: rimg2hut70.jpg\n",
      "\n",
      "\n",
      "크롤링 종료\n"
     ]
    }
   ],
   "source": [
    "get(25)"
   ]
  },
  {
   "cell_type": "code",
   "execution_count": null,
   "metadata": {},
   "outputs": [],
   "source": []
  }
 ],
 "metadata": {
  "kernelspec": {
   "display_name": "Python 3",
   "language": "python",
   "name": "python3"
  },
  "language_info": {
   "codemirror_mode": {
    "name": "ipython",
    "version": 3
   },
   "file_extension": ".py",
   "mimetype": "text/x-python",
   "name": "python",
   "nbconvert_exporter": "python",
   "pygments_lexer": "ipython3",
   "version": "3.7.3"
  }
 },
 "nbformat": 4,
 "nbformat_minor": 2
}
