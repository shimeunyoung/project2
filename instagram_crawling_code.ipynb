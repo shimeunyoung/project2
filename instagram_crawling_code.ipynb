{
 "cells": [
  {
   "cell_type": "code",
   "execution_count": 1,
   "metadata": {},
   "outputs": [],
   "source": [
    "from selenium import webdriver\n",
    "from bs4 import BeautifulSoup\n",
    "from pandas import Series, DataFrame\n",
    "from selenium.webdriver.common.keys import Keys\n",
    "import pandas as pd\n",
    "import time\n",
    "import urllib"
   ]
  },
  {
   "cell_type": "code",
   "execution_count": 2,
   "metadata": {},
   "outputs": [],
   "source": [
    "driver=webdriver.Chrome('C:/Users/chromedriver_win32/chromedriver')\n",
    "# 암묵적으로 웹 자원 로드를 위해 3초까지 기다려 준다.\n",
    "driver.implicitly_wait(3)"
   ]
  },
  {
   "cell_type": "code",
   "execution_count": 3,
   "metadata": {},
   "outputs": [],
   "source": [
    "driver.get('https://www.instagram.com/?hl=ko')\n",
    "driver.find_element_by_xpath('//*[@id=\"react-root\"]/section/main/article/div[2]/div[1]/div/form/div[1]/button').click()\n",
    "driver.find_element_by_name('email').send_keys('01031064802') #id\n",
    "driver.find_element_by_name('pass').send_keys('rkskekfkakqk4!') #password\n",
    "driver.find_element_by_xpath('//*[@id=\"u_0_5\"]').click()\n",
    "time.sleep(2)\n",
    "driver.find_element_by_xpath('/html/body/div[3]/div/div/div[3]/button[2]').click()"
   ]
  },
  {
   "cell_type": "code",
   "execution_count": 5,
   "metadata": {},
   "outputs": [],
   "source": [
    "def instagram_image_crawling(add, addd, i, j):\n",
    "    driver.find_element_by_xpath('//*[@id=\"react-root\"]/section/nav/div[2]/div/div/div[1]/a/div/div[2]/span').click()\n",
    "    time.sleep(0.5)\n",
    "    driver.find_element_by_xpath('//*[@id=\"react-root\"]/section/nav/div[2]/div/div/div[2]/input').send_keys(i)\n",
    "    time.sleep(0.2)\n",
    "    driver.find_element_by_xpath('//*[@id=\"react-root\"]/section/nav/div[2]/div/div/div[2]/div[2]/div[2]/div/a[1]').click()\n",
    "    #driver.find_element_by_xpath('//*[@id=\"react-root\"]/section/nav/div[2]/div/div/div[2]/div[2]/div[2]/div/a[2]').click()\n",
    "    li=[]\n",
    "    html = driver.page_source\n",
    "    soup = BeautifulSoup(html, 'html.parser')\n",
    "    elem=driver.find_element_by_tag_name(\"body\")\n",
    "    while len(li)<=j:\n",
    "        time.sleep(0.2)\n",
    "        html = driver.page_source\n",
    "        soup = BeautifulSoup(html, 'html.parser')\n",
    "        ex=soup.find_all(\"img\")\n",
    "        sam=[]\n",
    "        for i in ex:\n",
    "            exxx=i.get(\"src\")\n",
    "            sam.append(exxx)\n",
    "        del sam[0:10] #코드 수정!\n",
    "        print(len(sam))\n",
    "        for n in sam:\n",
    "            li.append(n)\n",
    "        no_of_pagedowns=8\n",
    "        while no_of_pagedowns:\n",
    "            elem.send_keys(Keys.PAGE_DOWN)\n",
    "            time.sleep(0.2)\n",
    "            no_of_pagedowns-=1\n",
    "        time.sleep(0.5)\n",
    "    else:\n",
    "        print(len(li))\n",
    "        print(\"크롤링종료\")\n",
    "    count=1\n",
    "    for m in li:\n",
    "        if count<=2000:\n",
    "            count=str(count)\n",
    "            urllib.request.urlretrieve(m, add + count + \".jpg\")\n",
    "            count=int(count)\n",
    "            count+=1\n",
    "            time.sleep(0.1)\n",
    "        else:\n",
    "            count=str(count)\n",
    "            urllib.request.urlretrieve(m, addd + count + \".jpg\")\n",
    "            count=int(count)\n",
    "            count+=1\n",
    "            time.sleep(0.1)\n",
    "    print(len(li))\n",
    "    print('이미지저장종료')"
   ]
  },
  {
   "cell_type": "code",
   "execution_count": 14,
   "metadata": {
    "scrolled": true
   },
   "outputs": [
    {
     "name": "stdout",
     "output_type": "stream",
     "text": [
      "33\n",
      "57\n",
      "45\n",
      "45\n",
      "42\n",
      "45\n",
      "51\n",
      "51\n",
      "51\n",
      "60\n",
      "45\n",
      "525\n",
      "크롤링종료\n",
      "525\n",
      "이미지저장종료\n"
     ]
    }
   ],
   "source": [
    "instagram_image_crawling(\"./plus_manto(7)/\", \"./train_mantoman/\", \"코트\", 500)"
   ]
  }
 ],
 "metadata": {
  "kernelspec": {
   "display_name": "Python 3",
   "language": "python",
   "name": "python3"
  },
  "language_info": {
   "codemirror_mode": {
    "name": "ipython",
    "version": 3
   },
   "file_extension": ".py",
   "mimetype": "text/x-python",
   "name": "python",
   "nbconvert_exporter": "python",
   "pygments_lexer": "ipython3",
   "version": "3.7.3"
  }
 },
 "nbformat": 4,
 "nbformat_minor": 2
}
